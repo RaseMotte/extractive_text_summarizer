{
 "cells": [
  {
   "cell_type": "markdown",
   "metadata": {},
   "source": [
    "# Résumé"
   ]
  },
  {
   "cell_type": "markdown",
   "metadata": {},
   "source": [
    "## Imports"
   ]
  },
  {
   "cell_type": "code",
   "execution_count": null,
   "metadata": {},
   "outputs": [],
   "source": [
    "from sklearn.feature_extraction.text import TfidfVectorizer\n",
    "from sklearn.metrics.pairwise import cosine_similarity as cos_sim\n",
    "from sklearn.preprocessing import normalize\n",
    "from collections import defaultdict\n",
    "\n",
    "import xml.sax as sax\n",
    "from xml.sax import SAXParseException\n",
    "\n",
    "import os\n",
    "import numpy as np\n",
    "import re\n",
    "import nltk\n",
    "from math import log\n",
    "\n",
    "from nltk.tokenize import sent_tokenize\n",
    "from pprint import pprint as pp\n",
    "\n",
    "from IPython.core.display import display, HTML\n",
    "\n",
    "from IPython.display import clear_output\n",
    "clear_output()"
   ]
  },
  {
   "cell_type": "markdown",
   "metadata": {},
   "source": [
    "### Lecteur HTML "
   ]
  },
  {
   "cell_type": "code",
   "execution_count": null,
   "metadata": {},
   "outputs": [],
   "source": [
    "class TextHandler(sax.ContentHandler):\n",
    "    \n",
    "    def __init__(self) :\n",
    "        self._activeParse = False\n",
    "        self._result = \"\"\n",
    "    \n",
    "    def startDocument(self):\n",
    "        pass\n",
    "\n",
    "    def startElement(self, name, attrs):\n",
    "        if name in {\"TEXT\", \"LEADPARA\"}:\n",
    "            self._activeParse = True\n",
    "\n",
    "    def endElement(self, name):\n",
    "        if name in {\"TEXT\", \"LEADPARA\"} :\n",
    "            self._activeParse = False\n",
    "\n",
    "    def characters(self, content):\n",
    "        if self._activeParse :\n",
    "            self._result += content.replace('\\n',\" \")"
   ]
  },
  {
   "cell_type": "code",
   "execution_count": null,
   "metadata": {},
   "outputs": [],
   "source": [
    "class ResumeHandler(sax.ContentHandler):\n",
    "    \n",
    "    def __init__(self) :\n",
    "        self._activeParse = False\n",
    "        self._charBuffer = \"\"\n",
    "        self._active_doc = \"\"\n",
    "        self._result = []\n",
    "    \n",
    "    def startDocument(self):\n",
    "        pass\n",
    "\n",
    "    def startElement(self, name, attrs):\n",
    "        if name == \"SUM\" :\n",
    "            self._activeParse = True\n",
    "            self._active_doc = attrs[\"DOCREF\"].strip(\" \")\n",
    "            self._charBuffer = \"\"\n",
    "\n",
    "    def endElement(self, name):\n",
    "        if name == \"SUM\" :\n",
    "            self._activeParse = False\n",
    "            self._result.append((self._active_doc, self._charBuffer))\n",
    "            \n",
    "\n",
    "    def characters(self, content):\n",
    "        if self._activeParse :\n",
    "            self._charBuffer += content.replace('\\n',\" \")"
   ]
  },
  {
   "cell_type": "code",
   "execution_count": null,
   "metadata": {},
   "outputs": [],
   "source": [
    "def parse_file(file, handler) :\n",
    "    try :\n",
    "        sax.parse(open(file, encoding = 'utf-8'), handler)\n",
    "        return handler._result\n",
    "    except SAXParseException as e:\n",
    "        print(file,\"contains some errors\")\n",
    "        return None"
   ]
  },
  {
   "cell_type": "markdown",
   "metadata": {},
   "source": [
    "## Fonctions de similarité et Algo TextRank "
   ]
  },
  {
   "cell_type": "code",
   "execution_count": null,
   "metadata": {},
   "outputs": [],
   "source": [
    "def generate_sim_bow(corpus) :\n",
    "    sent_words = [] \n",
    "    for sent in corpus :\n",
    "        sent_words.append(set(sent.split(\" \")))\n",
    "    sim = [ [0 for i in range(len(corpus))] for i in range(len(corpus)) ]\n",
    "    for i in range(len(corpus)) :\n",
    "        for j in range(i+1,len(corpus)) :\n",
    "            k = (len(sent_words[i].intersection(sent_words[j]))\n",
    "                / (log(len(corpus[i].split(\" \"))) + log(len(corpus[j].split(\" \")))))\n",
    "            sim[i][j] = k\n",
    "            sim[j][i] = k\n",
    "    return sim\n",
    "\n",
    "def tfidf_matrix(corpus) :\n",
    "    #vectorizer = TfidfVectorizer()\n",
    "    X = tfidf_vectorizer.transform(corpus)\n",
    "    return cos_sim(X, X)\n"
   ]
  },
  {
   "cell_type": "code",
   "execution_count": null,
   "metadata": {},
   "outputs": [],
   "source": [
    "def pagerank(A, eps=0.0001, d=0.85, max_iter = 5000):\n",
    "    P = np.ones(len(A)) / len(A)\n",
    "    while max_iter :\n",
    "        max_iter-=1\n",
    "        new_P = np.ones(len(A)) * (1 - d)/ len(A) + d * A.dot(P)\n",
    "        delta = abs(new_P - P).sum()\n",
    "        if delta <= eps:\n",
    "            return new_P\n",
    "        P = new_P\n",
    "    print(\"Convergence error\")\n",
    "    return new_P"
   ]
  },
  {
   "cell_type": "markdown",
   "metadata": {},
   "source": [
    "### Zone de bricole"
   ]
  },
  {
   "cell_type": "code",
   "execution_count": null,
   "metadata": {},
   "outputs": [],
   "source": [
    "def tokenizer_cleaner(corpus) :\n",
    "    docs = {}\n",
    "    for key, sents in corpus.items() :\n",
    "        sentences = sent_tokenize(sents)\n",
    "        cleaned = []\n",
    "        for sen in sentences :\n",
    "            cleaned.append(re.sub(r\"[ ]+\",\" \",re.sub(r\"[^a-zA-Z0-9]\",\" \", sen)))\n",
    "        docs[key] = (sentences, cleaned)\n",
    "    return docs"
   ]
  },
  {
   "cell_type": "code",
   "execution_count": null,
   "metadata": {},
   "outputs": [],
   "source": [
    "def get_resume(folder) :\n",
    "    \n",
    "    walker = os.walk(folder)\n",
    "    tmp = next(walker)\n",
    "\n",
    "    resume_corpus = defaultdict(lambda : {})\n",
    "    for fold in tmp[1] :\n",
    "        stream = None\n",
    "        try :\n",
    "            stream = parse_file(folder+fold+\"/perdocs.correct\", ResumeHandler())\n",
    "        except FileNotFoundError : \n",
    "            print(folder+fold+\"/perdocs do not exist\")\n",
    "        if stream :\n",
    "            for (ref, text) in stream : \n",
    "                resume_corpus[fold[:-1]+\"/\"+ref][fold[-1]] = text\n",
    "    return resume_corpus"
   ]
  },
  {
   "cell_type": "code",
   "execution_count": null,
   "metadata": {},
   "outputs": [],
   "source": [
    "def doc_resumer(docs, sim_generator) :\n",
    "    resume = {}\n",
    "    global tfidf_vectorizer \n",
    "    tfidf_vectorizer = TfidfVectorizer()\n",
    "    tfidf_vectorizer.fit([sen for sents in docs.values() for sen in sents[1] ])\n",
    "    for doc, sents in docs.items() : \n",
    "\n",
    "        tmp = sim_generator(sents[1]) \n",
    "\n",
    "        sim_matrix = normalize(tmp, norm = 'l1', axis = 0)\n",
    "\n",
    "        for i in range(len(sents[1])) :\n",
    "            sim_matrix[i][i] = 0\n",
    "        results = pagerank(sim_matrix)\n",
    "        top_sen = [item[0] for item in sorted(enumerate(results), key=lambda x: x[1], reverse = True)]\n",
    "        sent_resume = []\n",
    "        for ind in sorted(top_sen[:3]) :\n",
    "            sent_resume.append(ind)\n",
    "        resume[doc] = sent_resume\n",
    "    \n",
    "    return resume"
   ]
  },
  {
   "cell_type": "code",
   "execution_count": null,
   "metadata": {},
   "outputs": [],
   "source": [
    "def resume_doc_linker(resume_corpus, docs) : \n",
    "    overall = defaultdict(lambda : {})\n",
    "    for ref in resume_corpus :\n",
    "        try :\n",
    "            global tfidf_vectorizer\n",
    "            X = tfidf_vectorizer.transform(docs[ref][1])\n",
    "            for anot in resume_corpus[ref] :\n",
    "                gold = list(tokenizer_cleaner({ref : resume_corpus[ref][anot]}).values())[0][1]\n",
    "                Y = tfidf_vectorizer.transform(gold)\n",
    "                M = cos_sim(X,Y)\n",
    "                overall[ref][anot] = np.argmax(M, axis = 0)\n",
    "        except KeyError as e :\n",
    "            print(\"File not parsed :\",e)\n",
    "    return overall"
   ]
  },
  {
   "cell_type": "code",
   "execution_count": null,
   "metadata": {},
   "outputs": [],
   "source": [
    "def html_gen(docs, resume_tr, resume_tfidf, overall) :\n",
    "    for doc in resume_tr.keys() :\n",
    "        s = '<h2>'+doc+'</h2><p style=\"text-align:justify\">'\n",
    "        sano = set()\n",
    "        anos = list(overall[doc].values())\n",
    "        if len(anos) :\n",
    "            sano = set(anos[0])\n",
    "        if len(anos) == 2 :\n",
    "            sano = sano.union(set(anos[1]))\n",
    "\n",
    "        for i in range(len(docs[doc][0])) :\n",
    "            tr = 255 * (i in resume_tr[doc])\n",
    "            idf = 255 * (i in resume_tfidf[doc])\n",
    "            ano = 255 - 96 * (i in sano)\n",
    "                \n",
    "            s += ('<span style=\"color:rgb('+str(tr)+',0,'+str(idf)+')'\n",
    "                +';background-color:rgb('+str(ano)+',255,'+str(ano)+')\">'\n",
    "                + docs[doc][0][i]\n",
    "                +\" </span>\")\n",
    "        display(HTML(s+\"</p>\"))"
   ]
  },
  {
   "cell_type": "markdown",
   "metadata": {},
   "source": [
    "## Zone"
   ]
  },
  {
   "cell_type": "code",
   "execution_count": null,
   "metadata": {},
   "outputs": [],
   "source": [
    "import import_ipynb\n",
    "resume_tr = doc_resumer(docs, generate_sim_bow)\n",
    "resume_tfidf = doc_resumer(docs, tfidf_matrix)\n",
    "resume_folder = \"/wdl/resume/summaries/\"\n",
    "resume_corpus = get_resume(resume_folder)\n",
    "overall = resume_doc_linker(resume_corpus, docs)\n",
    "#html_gen(docs, resume_tr, resume_tfidf, overall)\n",
    "\n",
    "ktr = 0\n",
    "ktfidf = 0\n",
    "for ref in overall :\n",
    "    assem = set(x for group in overall[ref].values() for x in group) \n",
    "    ktr += len(assem.intersection(set(resume_tr[ref])))/3\n",
    "    ktfidf += len(assem.intersection(set(resume_tfidf[ref])))/3\n",
    "ktr /= len(overall)\n",
    "ktfidf /= len(overall)\n",
    "print(ktr)\n",
    "print(ktfidf)"
   ]
  },
  {
   "cell_type": "code",
   "execution_count": 16,
   "metadata": {
    "scrolled": false
   },
   "outputs": [
    {
     "name": "stdout",
     "output_type": "stream",
     "text": [
      "0.9.0\n",
      "0.8458363164943894\n",
      "{'M1': {'R1': {'f': 0.4995181410980505, 'p': 0.85358595115583, 'r': 0.13585789960975925}, 'R2': {'f': 0.35796856474175054, 'p': 0.5320371250570983, 'r': 0.9213504191088193}, 'R3': {'f': 0.4594803848008926, 'p': 0.6424353554194934, 'r': 0.8128175908407765}, 'R4': {'f': 0.3996822535769413, 'p': 0.6524114812843614, 'r': 0.7225392117200848}}, 'M2': {'R1': {'f': 0.011646150608247141, 'p': 0.5414711269139136, 'r': 0.621242904602392}, 'R2': {'f': 0.8942739920318993, 'p': 0.13600838388585723, 'r': 0.6731199423699904}, 'R3': {'f': 0.4437668752860646, 'p': 0.11575295710469857, 'r': 0.016432606358828594}, 'R4': {'f': 0.8568921613391463, 'p': 0.1535037127392035, 'r': 0.32456383453894067}}, 'M3': {'R1': {'f': 0.03195468778867516, 'p': 0.9421733708503041, 'r': 0.3582676735379876}, 'R2': {'f': 0.5722032494639562, 'p': 0.3718675118942836, 'r': 0.12463533014940775}, 'R3': {'f': 0.8011461118020841, 'p': 0.3341396751201149, 'r': 0.5438934012826722}, 'R4': {'f': 0.30789520666618053, 'p': 0.11030239789448204, 'r': 0.4071986102643612}}}\n",
      "                                                   M1  \\\n",
      "R1  {'f': 0.4995181410980505, 'p': 0.8535859511558...   \n",
      "R2  {'f': 0.35796856474175054, 'p': 0.532037125057...   \n",
      "R3  {'f': 0.4594803848008926, 'p': 0.6424353554194...   \n",
      "R4  {'f': 0.3996822535769413, 'p': 0.6524114812843...   \n",
      "\n",
      "                                                   M2  \\\n",
      "R1  {'f': 0.011646150608247141, 'p': 0.54147112691...   \n",
      "R2  {'f': 0.8942739920318993, 'p': 0.1360083838858...   \n",
      "R3  {'f': 0.4437668752860646, 'p': 0.1157529571046...   \n",
      "R4  {'f': 0.8568921613391463, 'p': 0.1535037127392...   \n",
      "\n",
      "                                                   M3  \n",
      "R1  {'f': 0.03195468778867516, 'p': 0.942173370850...  \n",
      "R2  {'f': 0.5722032494639562, 'p': 0.3718675118942...  \n",
      "R3  {'f': 0.8011461118020841, 'p': 0.3341396751201...  \n",
      "R4  {'f': 0.30789520666618053, 'p': 0.110302397894...  \n"
     ]
    },
    {
     "ename": "TypeError",
     "evalue": "float() argument must be a string or a number, not 'dict'",
     "output_type": "error",
     "traceback": [
      "\u001b[0;31m---------------------------------------------------------------------------\u001b[0m",
      "\u001b[0;31mTypeError\u001b[0m                                 Traceback (most recent call last)",
      "\u001b[0;32m<ipython-input-16-1f3ce0f1dc71>\u001b[0m in \u001b[0;36m<module>\u001b[0;34m()\u001b[0m\n\u001b[1;32m     14\u001b[0m \u001b[0mprint\u001b[0m\u001b[0;34m(\u001b[0m\u001b[0mdata\u001b[0m\u001b[0;34m)\u001b[0m\u001b[0;34m\u001b[0m\u001b[0;34m\u001b[0m\u001b[0m\n\u001b[1;32m     15\u001b[0m \u001b[0;34m\u001b[0m\u001b[0m\n\u001b[0;32m---> 16\u001b[0;31m \u001b[0msns\u001b[0m\u001b[0;34m.\u001b[0m\u001b[0mlineplot\u001b[0m\u001b[0;34m(\u001b[0m\u001b[0mdata\u001b[0m\u001b[0;34m=\u001b[0m\u001b[0mdata\u001b[0m\u001b[0;34m)\u001b[0m\u001b[0;34m\u001b[0m\u001b[0;34m\u001b[0m\u001b[0m\n\u001b[0m\u001b[1;32m     17\u001b[0m \u001b[0;32mimport\u001b[0m \u001b[0mmatplotlib\u001b[0m\u001b[0;34m.\u001b[0m\u001b[0mpyplot\u001b[0m \u001b[0;32mas\u001b[0m \u001b[0mplt\u001b[0m\u001b[0;34m\u001b[0m\u001b[0;34m\u001b[0m\u001b[0m\n\u001b[1;32m     18\u001b[0m \u001b[0mplt\u001b[0m\u001b[0;34m.\u001b[0m\u001b[0mshow\u001b[0m\u001b[0;34m(\u001b[0m\u001b[0;34m)\u001b[0m\u001b[0;34m\u001b[0m\u001b[0;34m\u001b[0m\u001b[0m\n",
      "\u001b[0;32m/home/sebastien/.local/lib/python3.6/site-packages/seaborn/relational.py\u001b[0m in \u001b[0;36mlineplot\u001b[0;34m(x, y, hue, size, style, data, palette, hue_order, hue_norm, sizes, size_order, size_norm, dashes, markers, style_order, units, estimator, ci, n_boot, sort, err_style, err_kws, legend, ax, **kwargs)\u001b[0m\n\u001b[1;32m   1076\u001b[0m         \u001b[0mdashes\u001b[0m\u001b[0;34m=\u001b[0m\u001b[0mdashes\u001b[0m\u001b[0;34m,\u001b[0m \u001b[0mmarkers\u001b[0m\u001b[0;34m=\u001b[0m\u001b[0mmarkers\u001b[0m\u001b[0;34m,\u001b[0m \u001b[0mstyle_order\u001b[0m\u001b[0;34m=\u001b[0m\u001b[0mstyle_order\u001b[0m\u001b[0;34m,\u001b[0m\u001b[0;34m\u001b[0m\u001b[0;34m\u001b[0m\u001b[0m\n\u001b[1;32m   1077\u001b[0m         \u001b[0munits\u001b[0m\u001b[0;34m=\u001b[0m\u001b[0munits\u001b[0m\u001b[0;34m,\u001b[0m \u001b[0mestimator\u001b[0m\u001b[0;34m=\u001b[0m\u001b[0mestimator\u001b[0m\u001b[0;34m,\u001b[0m \u001b[0mci\u001b[0m\u001b[0;34m=\u001b[0m\u001b[0mci\u001b[0m\u001b[0;34m,\u001b[0m \u001b[0mn_boot\u001b[0m\u001b[0;34m=\u001b[0m\u001b[0mn_boot\u001b[0m\u001b[0;34m,\u001b[0m\u001b[0;34m\u001b[0m\u001b[0;34m\u001b[0m\u001b[0m\n\u001b[0;32m-> 1078\u001b[0;31m         \u001b[0msort\u001b[0m\u001b[0;34m=\u001b[0m\u001b[0msort\u001b[0m\u001b[0;34m,\u001b[0m \u001b[0merr_style\u001b[0m\u001b[0;34m=\u001b[0m\u001b[0merr_style\u001b[0m\u001b[0;34m,\u001b[0m \u001b[0merr_kws\u001b[0m\u001b[0;34m=\u001b[0m\u001b[0merr_kws\u001b[0m\u001b[0;34m,\u001b[0m \u001b[0mlegend\u001b[0m\u001b[0;34m=\u001b[0m\u001b[0mlegend\u001b[0m\u001b[0;34m,\u001b[0m\u001b[0;34m\u001b[0m\u001b[0;34m\u001b[0m\u001b[0m\n\u001b[0m\u001b[1;32m   1079\u001b[0m     )\n\u001b[1;32m   1080\u001b[0m \u001b[0;34m\u001b[0m\u001b[0m\n",
      "\u001b[0;32m/home/sebastien/.local/lib/python3.6/site-packages/seaborn/relational.py\u001b[0m in \u001b[0;36m__init__\u001b[0;34m(self, x, y, hue, size, style, data, palette, hue_order, hue_norm, sizes, size_order, size_norm, dashes, markers, style_order, units, estimator, ci, n_boot, sort, err_style, err_kws, legend)\u001b[0m\n\u001b[1;32m    661\u001b[0m \u001b[0;34m\u001b[0m\u001b[0m\n\u001b[1;32m    662\u001b[0m         plot_data = self.establish_variables(\n\u001b[0;32m--> 663\u001b[0;31m             \u001b[0mx\u001b[0m\u001b[0;34m,\u001b[0m \u001b[0my\u001b[0m\u001b[0;34m,\u001b[0m \u001b[0mhue\u001b[0m\u001b[0;34m,\u001b[0m \u001b[0msize\u001b[0m\u001b[0;34m,\u001b[0m \u001b[0mstyle\u001b[0m\u001b[0;34m,\u001b[0m \u001b[0munits\u001b[0m\u001b[0;34m,\u001b[0m \u001b[0mdata\u001b[0m\u001b[0;34m\u001b[0m\u001b[0;34m\u001b[0m\u001b[0m\n\u001b[0m\u001b[1;32m    664\u001b[0m         )\n\u001b[1;32m    665\u001b[0m \u001b[0;34m\u001b[0m\u001b[0m\n",
      "\u001b[0;32m/home/sebastien/.local/lib/python3.6/site-packages/seaborn/relational.py\u001b[0m in \u001b[0;36mestablish_variables\u001b[0;34m(self, x, y, hue, size, style, units, data)\u001b[0m\n\u001b[1;32m     59\u001b[0m                 \u001b[0;31m# Enforce numeric values\u001b[0m\u001b[0;34m\u001b[0m\u001b[0;34m\u001b[0m\u001b[0;34m\u001b[0m\u001b[0m\n\u001b[1;32m     60\u001b[0m                 \u001b[0;32mtry\u001b[0m\u001b[0;34m:\u001b[0m\u001b[0;34m\u001b[0m\u001b[0;34m\u001b[0m\u001b[0m\n\u001b[0;32m---> 61\u001b[0;31m                     \u001b[0mdata\u001b[0m\u001b[0;34m.\u001b[0m\u001b[0mastype\u001b[0m\u001b[0;34m(\u001b[0m\u001b[0mnp\u001b[0m\u001b[0;34m.\u001b[0m\u001b[0mfloat\u001b[0m\u001b[0;34m)\u001b[0m\u001b[0;34m\u001b[0m\u001b[0;34m\u001b[0m\u001b[0m\n\u001b[0m\u001b[1;32m     62\u001b[0m                 \u001b[0;32mexcept\u001b[0m \u001b[0mValueError\u001b[0m\u001b[0;34m:\u001b[0m\u001b[0;34m\u001b[0m\u001b[0;34m\u001b[0m\u001b[0m\n\u001b[1;32m     63\u001b[0m                     \u001b[0merr\u001b[0m \u001b[0;34m=\u001b[0m \u001b[0;34m\"A wide-form input must have only numeric values.\"\u001b[0m\u001b[0;34m\u001b[0m\u001b[0;34m\u001b[0m\u001b[0m\n",
      "\u001b[0;32m/home/sebastien/.local/lib/python3.6/site-packages/pandas/core/generic.py\u001b[0m in \u001b[0;36mastype\u001b[0;34m(self, dtype, copy, errors, **kwargs)\u001b[0m\n\u001b[1;32m   5689\u001b[0m             \u001b[0;31m# else, only a single dtype is given\u001b[0m\u001b[0;34m\u001b[0m\u001b[0;34m\u001b[0m\u001b[0;34m\u001b[0m\u001b[0m\n\u001b[1;32m   5690\u001b[0m             new_data = self._data.astype(dtype=dtype, copy=copy, errors=errors,\n\u001b[0;32m-> 5691\u001b[0;31m                                          **kwargs)\n\u001b[0m\u001b[1;32m   5692\u001b[0m             \u001b[0;32mreturn\u001b[0m \u001b[0mself\u001b[0m\u001b[0;34m.\u001b[0m\u001b[0m_constructor\u001b[0m\u001b[0;34m(\u001b[0m\u001b[0mnew_data\u001b[0m\u001b[0;34m)\u001b[0m\u001b[0;34m.\u001b[0m\u001b[0m__finalize__\u001b[0m\u001b[0;34m(\u001b[0m\u001b[0mself\u001b[0m\u001b[0;34m)\u001b[0m\u001b[0;34m\u001b[0m\u001b[0;34m\u001b[0m\u001b[0m\n\u001b[1;32m   5693\u001b[0m \u001b[0;34m\u001b[0m\u001b[0m\n",
      "\u001b[0;32m/home/sebastien/.local/lib/python3.6/site-packages/pandas/core/internals/managers.py\u001b[0m in \u001b[0;36mastype\u001b[0;34m(self, dtype, **kwargs)\u001b[0m\n\u001b[1;32m    529\u001b[0m \u001b[0;34m\u001b[0m\u001b[0m\n\u001b[1;32m    530\u001b[0m     \u001b[0;32mdef\u001b[0m \u001b[0mastype\u001b[0m\u001b[0;34m(\u001b[0m\u001b[0mself\u001b[0m\u001b[0;34m,\u001b[0m \u001b[0mdtype\u001b[0m\u001b[0;34m,\u001b[0m \u001b[0;34m**\u001b[0m\u001b[0mkwargs\u001b[0m\u001b[0;34m)\u001b[0m\u001b[0;34m:\u001b[0m\u001b[0;34m\u001b[0m\u001b[0;34m\u001b[0m\u001b[0m\n\u001b[0;32m--> 531\u001b[0;31m         \u001b[0;32mreturn\u001b[0m \u001b[0mself\u001b[0m\u001b[0;34m.\u001b[0m\u001b[0mapply\u001b[0m\u001b[0;34m(\u001b[0m\u001b[0;34m'astype'\u001b[0m\u001b[0;34m,\u001b[0m \u001b[0mdtype\u001b[0m\u001b[0;34m=\u001b[0m\u001b[0mdtype\u001b[0m\u001b[0;34m,\u001b[0m \u001b[0;34m**\u001b[0m\u001b[0mkwargs\u001b[0m\u001b[0;34m)\u001b[0m\u001b[0;34m\u001b[0m\u001b[0;34m\u001b[0m\u001b[0m\n\u001b[0m\u001b[1;32m    532\u001b[0m \u001b[0;34m\u001b[0m\u001b[0m\n\u001b[1;32m    533\u001b[0m     \u001b[0;32mdef\u001b[0m \u001b[0mconvert\u001b[0m\u001b[0;34m(\u001b[0m\u001b[0mself\u001b[0m\u001b[0;34m,\u001b[0m \u001b[0;34m**\u001b[0m\u001b[0mkwargs\u001b[0m\u001b[0;34m)\u001b[0m\u001b[0;34m:\u001b[0m\u001b[0;34m\u001b[0m\u001b[0;34m\u001b[0m\u001b[0m\n",
      "\u001b[0;32m/home/sebastien/.local/lib/python3.6/site-packages/pandas/core/internals/managers.py\u001b[0m in \u001b[0;36mapply\u001b[0;34m(self, f, axes, filter, do_integrity_check, consolidate, **kwargs)\u001b[0m\n\u001b[1;32m    393\u001b[0m                                             copy=align_copy)\n\u001b[1;32m    394\u001b[0m \u001b[0;34m\u001b[0m\u001b[0m\n\u001b[0;32m--> 395\u001b[0;31m             \u001b[0mapplied\u001b[0m \u001b[0;34m=\u001b[0m \u001b[0mgetattr\u001b[0m\u001b[0;34m(\u001b[0m\u001b[0mb\u001b[0m\u001b[0;34m,\u001b[0m \u001b[0mf\u001b[0m\u001b[0;34m)\u001b[0m\u001b[0;34m(\u001b[0m\u001b[0;34m**\u001b[0m\u001b[0mkwargs\u001b[0m\u001b[0;34m)\u001b[0m\u001b[0;34m\u001b[0m\u001b[0;34m\u001b[0m\u001b[0m\n\u001b[0m\u001b[1;32m    396\u001b[0m             \u001b[0mresult_blocks\u001b[0m \u001b[0;34m=\u001b[0m \u001b[0m_extend_blocks\u001b[0m\u001b[0;34m(\u001b[0m\u001b[0mapplied\u001b[0m\u001b[0;34m,\u001b[0m \u001b[0mresult_blocks\u001b[0m\u001b[0;34m)\u001b[0m\u001b[0;34m\u001b[0m\u001b[0;34m\u001b[0m\u001b[0m\n\u001b[1;32m    397\u001b[0m \u001b[0;34m\u001b[0m\u001b[0m\n",
      "\u001b[0;32m/home/sebastien/.local/lib/python3.6/site-packages/pandas/core/internals/blocks.py\u001b[0m in \u001b[0;36mastype\u001b[0;34m(self, dtype, copy, errors, values, **kwargs)\u001b[0m\n\u001b[1;32m    532\u001b[0m     \u001b[0;32mdef\u001b[0m \u001b[0mastype\u001b[0m\u001b[0;34m(\u001b[0m\u001b[0mself\u001b[0m\u001b[0;34m,\u001b[0m \u001b[0mdtype\u001b[0m\u001b[0;34m,\u001b[0m \u001b[0mcopy\u001b[0m\u001b[0;34m=\u001b[0m\u001b[0;32mFalse\u001b[0m\u001b[0;34m,\u001b[0m \u001b[0merrors\u001b[0m\u001b[0;34m=\u001b[0m\u001b[0;34m'raise'\u001b[0m\u001b[0;34m,\u001b[0m \u001b[0mvalues\u001b[0m\u001b[0;34m=\u001b[0m\u001b[0;32mNone\u001b[0m\u001b[0;34m,\u001b[0m \u001b[0;34m**\u001b[0m\u001b[0mkwargs\u001b[0m\u001b[0;34m)\u001b[0m\u001b[0;34m:\u001b[0m\u001b[0;34m\u001b[0m\u001b[0;34m\u001b[0m\u001b[0m\n\u001b[1;32m    533\u001b[0m         return self._astype(dtype, copy=copy, errors=errors, values=values,\n\u001b[0;32m--> 534\u001b[0;31m                             **kwargs)\n\u001b[0m\u001b[1;32m    535\u001b[0m \u001b[0;34m\u001b[0m\u001b[0m\n\u001b[1;32m    536\u001b[0m     def _astype(self, dtype, copy=False, errors='raise', values=None,\n",
      "\u001b[0;32m/home/sebastien/.local/lib/python3.6/site-packages/pandas/core/internals/blocks.py\u001b[0m in \u001b[0;36m_astype\u001b[0;34m(self, dtype, copy, errors, values, **kwargs)\u001b[0m\n\u001b[1;32m    631\u001b[0m \u001b[0;34m\u001b[0m\u001b[0m\n\u001b[1;32m    632\u001b[0m                     \u001b[0;31m# _astype_nansafe works fine with 1-d only\u001b[0m\u001b[0;34m\u001b[0m\u001b[0;34m\u001b[0m\u001b[0;34m\u001b[0m\u001b[0m\n\u001b[0;32m--> 633\u001b[0;31m                     \u001b[0mvalues\u001b[0m \u001b[0;34m=\u001b[0m \u001b[0mastype_nansafe\u001b[0m\u001b[0;34m(\u001b[0m\u001b[0mvalues\u001b[0m\u001b[0;34m.\u001b[0m\u001b[0mravel\u001b[0m\u001b[0;34m(\u001b[0m\u001b[0;34m)\u001b[0m\u001b[0;34m,\u001b[0m \u001b[0mdtype\u001b[0m\u001b[0;34m,\u001b[0m \u001b[0mcopy\u001b[0m\u001b[0;34m=\u001b[0m\u001b[0;32mTrue\u001b[0m\u001b[0;34m)\u001b[0m\u001b[0;34m\u001b[0m\u001b[0;34m\u001b[0m\u001b[0m\n\u001b[0m\u001b[1;32m    634\u001b[0m \u001b[0;34m\u001b[0m\u001b[0m\n\u001b[1;32m    635\u001b[0m                 \u001b[0;31m# TODO(extension)\u001b[0m\u001b[0;34m\u001b[0m\u001b[0;34m\u001b[0m\u001b[0;34m\u001b[0m\u001b[0m\n",
      "\u001b[0;32m/home/sebastien/.local/lib/python3.6/site-packages/pandas/core/dtypes/cast.py\u001b[0m in \u001b[0;36mastype_nansafe\u001b[0;34m(arr, dtype, copy, skipna)\u001b[0m\n\u001b[1;32m    700\u001b[0m     \u001b[0;32mif\u001b[0m \u001b[0mcopy\u001b[0m \u001b[0;32mor\u001b[0m \u001b[0mis_object_dtype\u001b[0m\u001b[0;34m(\u001b[0m\u001b[0marr\u001b[0m\u001b[0;34m)\u001b[0m \u001b[0;32mor\u001b[0m \u001b[0mis_object_dtype\u001b[0m\u001b[0;34m(\u001b[0m\u001b[0mdtype\u001b[0m\u001b[0;34m)\u001b[0m\u001b[0;34m:\u001b[0m\u001b[0;34m\u001b[0m\u001b[0;34m\u001b[0m\u001b[0m\n\u001b[1;32m    701\u001b[0m         \u001b[0;31m# Explicit copy, or required since NumPy can't view from / to object.\u001b[0m\u001b[0;34m\u001b[0m\u001b[0;34m\u001b[0m\u001b[0;34m\u001b[0m\u001b[0m\n\u001b[0;32m--> 702\u001b[0;31m         \u001b[0;32mreturn\u001b[0m \u001b[0marr\u001b[0m\u001b[0;34m.\u001b[0m\u001b[0mastype\u001b[0m\u001b[0;34m(\u001b[0m\u001b[0mdtype\u001b[0m\u001b[0;34m,\u001b[0m \u001b[0mcopy\u001b[0m\u001b[0;34m=\u001b[0m\u001b[0;32mTrue\u001b[0m\u001b[0;34m)\u001b[0m\u001b[0;34m\u001b[0m\u001b[0;34m\u001b[0m\u001b[0m\n\u001b[0m\u001b[1;32m    703\u001b[0m \u001b[0;34m\u001b[0m\u001b[0m\n\u001b[1;32m    704\u001b[0m     \u001b[0;32mreturn\u001b[0m \u001b[0marr\u001b[0m\u001b[0;34m.\u001b[0m\u001b[0mview\u001b[0m\u001b[0;34m(\u001b[0m\u001b[0mdtype\u001b[0m\u001b[0;34m)\u001b[0m\u001b[0;34m\u001b[0m\u001b[0;34m\u001b[0m\u001b[0m\n",
      "\u001b[0;31mTypeError\u001b[0m: float() argument must be a string or a number, not 'dict'"
     ]
    }
   ],
   "source": [
    "import numpy as np\n",
    "import pandas as pd\n",
    "import seaborn as sns\n",
    "from random import random\n",
    "print(sns.__version__)\n",
    "print(random())\n",
    "sns.set(style=\"whitegrid\")\n",
    "\n",
    "dic = {}\n",
    "for k in [\"M1\",\"M2\",\"M3\"] :\n",
    "    dic[k] = { \"R\"+str(i) : {t :random() for t in [\"f\",'p','r']} for i in range(1,5) }\n",
    "print(dic)\n",
    "data = pd.DataFrame.from_dict(dic)\n",
    "print(data)\n",
    "\n",
    "sns.lineplot(data=data)\n",
    "import matplotlib.pyplot as plt\n",
    "plt.show()"
   ]
  },
  {
   "cell_type": "code",
   "execution_count": 47,
   "metadata": {},
   "outputs": [
    {
     "data": {
      "text/plain": [
       "(   Méthode Score Type    Valeur\n",
       " 0       M1    R1    f  0.499518\n",
       " 1       M1    R1    p  0.853586\n",
       " 2       M1    R1    r  0.135858\n",
       " 3       M1    R2    f  0.357969\n",
       " 4       M1    R2    p  0.532037\n",
       " 5       M1    R2    r  0.921350\n",
       " 6       M1    R3    f  0.459480\n",
       " 7       M1    R3    p  0.642435\n",
       " 8       M1    R3    r  0.812818\n",
       " 9       M1    R4    f  0.399682\n",
       " 10      M1    R4    p  0.652411\n",
       " 11      M1    R4    r  0.722539\n",
       " 12      M2    R1    f  0.011646\n",
       " 13      M2    R1    p  0.541471\n",
       " 14      M2    R1    r  0.621243\n",
       " 15      M2    R2    f  0.894274\n",
       " 16      M2    R2    p  0.136008\n",
       " 17      M2    R2    r  0.673120\n",
       " 18      M2    R3    f  0.443767\n",
       " 19      M2    R3    p  0.115753\n",
       " 20      M2    R3    r  0.016433\n",
       " 21      M2    R4    f  0.856892\n",
       " 22      M2    R4    p  0.153504\n",
       " 23      M2    R4    r  0.324564\n",
       " 24      M3    R1    f  0.031955\n",
       " 25      M3    R1    p  0.942173\n",
       " 26      M3    R1    r  0.358268\n",
       " 27      M3    R2    f  0.572203\n",
       " 28      M3    R2    p  0.371868\n",
       " 29      M3    R2    r  0.124635\n",
       " 30      M3    R3    f  0.801146\n",
       " 31      M3    R3    p  0.334140\n",
       " 32      M3    R3    r  0.543893\n",
       " 33      M3    R4    f  0.307895\n",
       " 34      M3    R4    p  0.110302\n",
       " 35      M3    R4    r  0.407199,\n",
       "      subject  timepoint event    region    signal\n",
       " 0        s13         18  stim  parietal -0.017552\n",
       " 1         s5         14  stim  parietal -0.080883\n",
       " 2        s12         18  stim  parietal -0.081033\n",
       " 3        s11         18  stim  parietal -0.046134\n",
       " 4        s10         18  stim  parietal -0.037970\n",
       " 5         s9         18  stim  parietal -0.103513\n",
       " 6         s8         18  stim  parietal -0.064408\n",
       " 7         s7         18  stim  parietal -0.060526\n",
       " 8         s6         18  stim  parietal -0.007029\n",
       " 9         s5         18  stim  parietal -0.040557\n",
       " 10        s4         18  stim  parietal -0.048812\n",
       " 11        s3         18  stim  parietal -0.047148\n",
       " 12        s2         18  stim  parietal -0.086623\n",
       " 13        s1         18  stim  parietal -0.046659\n",
       " 14        s0         18  stim  parietal -0.075570\n",
       " 15       s13         17  stim  parietal -0.008265\n",
       " 16       s12         17  stim  parietal -0.088512\n",
       " 17        s7          9  stim  parietal  0.058897\n",
       " 18       s10         17  stim  parietal -0.016847\n",
       " 19        s9         17  stim  parietal -0.121574\n",
       " 20        s8         17  stim  parietal -0.076287\n",
       " 21        s7         17  stim  parietal -0.043812\n",
       " 22        s6         17  stim  parietal -0.014746\n",
       " 23        s5         17  stim  parietal -0.056682\n",
       " 24        s4         17  stim  parietal -0.044582\n",
       " 25        s3         17  stim  parietal -0.053514\n",
       " 26        s2         17  stim  parietal -0.077292\n",
       " 27        s1         17  stim  parietal -0.038021\n",
       " 28        s0         17  stim  parietal -0.071300\n",
       " 29       s13         16  stim  parietal -0.002856\n",
       " ...      ...        ...   ...       ...       ...\n",
       " 1034      s5         13   cue   frontal -0.014985\n",
       " 1035      s4         13   cue   frontal -0.021514\n",
       " 1036      s3         13   cue   frontal -0.047639\n",
       " 1037      s2         13   cue   frontal  0.047918\n",
       " 1038      s1         13   cue   frontal  0.028379\n",
       " 1039      s0         13   cue   frontal -0.021729\n",
       " 1040     s13         12   cue   frontal -0.020686\n",
       " 1041     s12         12   cue   frontal -0.003034\n",
       " 1042     s11         12   cue   frontal  0.055766\n",
       " 1043     s10         12   cue   frontal  0.005711\n",
       " 1044      s9         12   cue   frontal  0.024292\n",
       " 1045      s7         12   cue   frontal -0.014005\n",
       " 1046      s2          7   cue   frontal -0.078363\n",
       " 1047     s10         10   cue   frontal -0.016124\n",
       " 1048      s8         10   cue   frontal -0.015141\n",
       " 1049     s10          8   cue   frontal -0.052505\n",
       " 1050      s9          8   cue   frontal -0.008729\n",
       " 1051      s8          8   cue   frontal  0.007278\n",
       " 1052      s7          8   cue   frontal  0.015765\n",
       " 1053      s6          8   cue   frontal -0.063961\n",
       " 1054      s5          8   cue   frontal -0.028292\n",
       " 1055      s4          8   cue   frontal -0.160821\n",
       " 1056      s3          8   cue   frontal -0.033848\n",
       " 1057      s2          8   cue   frontal -0.069666\n",
       " 1058      s1          8   cue   frontal -0.136059\n",
       " 1059      s0          8   cue   frontal  0.018165\n",
       " 1060     s13          7   cue   frontal -0.029130\n",
       " 1061     s12          7   cue   frontal -0.004939\n",
       " 1062     s11          7   cue   frontal -0.025367\n",
       " 1063      s0          0   cue  parietal -0.006899\n",
       " \n",
       " [1064 rows x 5 columns])"
      ]
     },
     "execution_count": 47,
     "metadata": {},
     "output_type": "execute_result"
    },
    {
     "data": {
      "image/png": "[encoded data removed]",
      "text/plain": [
       "<Figure size 432x288 with 1 Axes>"
      ]
     },
     "metadata": {},
     "output_type": "display_data"
    }
   ],
   "source": [
    "fmri = sns.load_dataset(\"fmri\")\n",
    "data = pd.DataFrame(columns = [\"Méthode\",\"Score\",\"Type\", \"Valeur\"])\n",
    "rows = [] \n",
    "for m in dic :\n",
    "    for s in dic[m] :\n",
    "        for t in dic[m][s] :\n",
    "            rows.append({\"Méthode\" : m, \"Score\" : s, \"Type\" : t, \"Valeur\" : dic[m][s][t]})\n",
    "data = pd.DataFrame(rows, columns = [\"Méthode\",\"Score\",\"Type\", \"Valeur\"])\n",
    "\n",
    "\n",
    "sns.lineplot(data=data, x=\"Score\", y=\"Valeur\",hue=\"Méthode\", style ='Type' )\n",
    "data, fmri"
   ]
  }
 ],
 "metadata": {
  "kernelspec": {
   "display_name": "Python 3",
   "language": "python",
   "name": "python3"
  },
  "language_info": {
   "codemirror_mode": {
    "name": "ipython",
    "version": 3
   },
   "file_extension": ".py",
   "mimetype": "text/x-python",
   "name": "python",
   "nbconvert_exporter": "python",
   "pygments_lexer": "ipython3",
   "version": "3.6.8"
  }
 },
 "nbformat": 4,
 "nbformat_minor": 2
}
