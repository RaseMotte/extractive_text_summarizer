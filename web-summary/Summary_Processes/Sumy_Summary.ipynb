{
 "cells": [
  {
   "cell_type": "markdown",
   "metadata": {},
   "source": [
    "# Sumy summarizer's models\n",
    "\n",
    "## Luhn\n",
    "\n",
    "## Latent Semantic Analysis (LSA)\n",
    "\n",
    "## lex_rank\n",
    "\n",
    "## TextRank\n",
    "\n",
    "## "
   ]
  },
  {
   "cell_type": "code",
   "execution_count": 1,
   "metadata": {},
   "outputs": [],
   "source": [
    "from sumy.summarizers.luhn import LuhnSummarizer as luhn_summ\n",
    "from sumy.summarizers.lsa import LsaSummarizer as lsa_summ\n",
    "from sumy.summarizers.lex_rank import LexRankSummarizer as lr_summ\n",
    "from sumy.summarizers.text_rank import TextRankSummarizer as tr_summ\n",
    "from sumy.summarizers.sum_basic import SumBasicSummarizer as sb_summ\n",
    "from sumy.summarizers.kl import KLSummarizer as kl_summ\n",
    "\n",
    "from sumy.parsers.html import HtmlParser\n",
    "from sumy.parsers.plaintext import PlaintextParser\n",
    "from sumy.nlp.tokenizers import Tokenizer\n",
    "from sumy.nlp.stemmers import Stemmer\n",
    "from sumy.utils import get_stop_words\n",
    "\n",
    "class Sumy_process:\n",
    "    def __init__(self, option, folder, language = \"english\", nb_sent = 6) :\n",
    "        self.__name__ = \"Summy \" + option\n",
    "        self.language = language\n",
    "        self.folder = folder\n",
    "        self.sent = nb_sent\n",
    "        stemmer = Stemmer(language)\n",
    "        if option == \"luhn\" :\n",
    "            self.summarizer = luhn_summ(stemmer)\n",
    "        elif option == \"lsa\" :\n",
    "            self.summarizer = lsa_summ(stemmer)\n",
    "        elif option == \"lex_rank\" :\n",
    "            self.summarizer = lr_summ(stemmer)\n",
    "        elif option == \"text_rank\" :\n",
    "            self.summarizer = tr_summ(stemmer)\n",
    "        elif option == \"sum_basic\" :\n",
    "            self.summarizer = sb_summ(stemmer)\n",
    "        elif option == \"kl\" :\n",
    "            self.summarizer = kl_summ(stemmer)\n",
    "        else :\n",
    "            print(\"Error: unknown sumy model %s\" % option)\n",
    "        self.summarizer.stop_words = get_stop_words(language)\n",
    "    \n",
    "    def preprocess(self, corpus):\n",
    "        pass\n",
    "    \n",
    "    def summarize(self, ref, doc, web = False) :\n",
    "        if web :\n",
    "            parser = PlaintextParser.from_string(\" \".join(doc[ref][0]), Tokenizer(self.language))\n",
    "        else :\n",
    "            parser = PlaintextParser.from_file(self.folder+doc, Tokenizer(self.language))\n",
    "        result = self.summarizer(parser.document, self.sent)\n",
    "        return [str(sentence) for sentence in result]"
   ]
  }
 ],
 "metadata": {
  "kernelspec": {
   "display_name": "Python 3",
   "language": "python",
   "name": "python3"
  },
  "language_info": {
   "codemirror_mode": {
    "name": "ipython",
    "version": 3
   },
   "file_extension": ".py",
   "mimetype": "text/x-python",
   "name": "python",
   "nbconvert_exporter": "python",
   "pygments_lexer": "ipython3",
   "version": "3.7.4"
  }
 },
 "nbformat": 4,
 "nbformat_minor": 2
}
