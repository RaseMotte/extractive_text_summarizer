{
 "cells": [
  {
   "cell_type": "code",
   "execution_count": 2,
   "metadata": {},
   "outputs": [],
   "source": [
    "from sklearn.cluster import AgglomerativeClustering\n",
    "from collections import defaultdict\n",
    "import numpy as np\n",
    "from sklearn.metrics.pairwise import cosine_similarity as cos_sim\n",
    "%run TFIDF_Summary.ipynb\n",
    "\n",
    "\n",
    "class Cluster_process(Tfidf_process) :\n",
    "    \n",
    "    def summarize(self, corpus) :\n",
    "        X = self.vectorizer.transform(corpus).toarray()\n",
    "        C = AgglomerativeClustering(n_clusters = 3)\n",
    "        Z = C.fit_predict(X)\n",
    "        clu = defaultdict(list)\n",
    "        for ind, cls in enumerate(Z) :\n",
    "            clu[cls].append(ind)\n",
    "        summ = []\n",
    "        selected = set()\n",
    "        total_length = 0\n",
    "        while total_length < self.nb_words:\n",
    "            for clus in clu.values() :\n",
    "                clu_mat = []\n",
    "                clu_ind = []\n",
    "                for ind in clus :\n",
    "                    if ind not in selected:\n",
    "                        clu_mat.append(X[ind])\n",
    "                        clu_ind.append(ind)\n",
    "                if len(clu_ind) == 0:\n",
    "                    continue\n",
    "                centroid = np.sum(clu_mat, axis = 0)/len(clu_mat)\n",
    "                best = np.argmax(cos_sim(clu_mat, centroid.reshape(1, -1)))\n",
    "                summ.append(clu_ind[best])\n",
    "                total_length += len(corpus[clu_ind[best]].split())\n",
    "                if total_length > 100:\n",
    "                    return sorted(summ)\n",
    "                selected.add(clu_ind[best])\n",
    "        return sorted(summ)"
   ]
  }
 ],
 "metadata": {
  "kernelspec": {
   "display_name": "Python 3",
   "language": "python",
   "name": "python3"
  },
  "language_info": {
   "codemirror_mode": {
    "name": "ipython",
    "version": 3
   },
   "file_extension": ".py",
   "mimetype": "text/x-python",
   "name": "python",
   "nbconvert_exporter": "python",
   "pygments_lexer": "ipython3",
   "version": "3.7.4"
  }
 },
 "nbformat": 4,
 "nbformat_minor": 2
}
