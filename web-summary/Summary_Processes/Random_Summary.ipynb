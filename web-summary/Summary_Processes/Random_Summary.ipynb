{
 "cells": [
  {
   "cell_type": "code",
   "execution_count": 1,
   "metadata": {},
   "outputs": [],
   "source": [
    "from random import shuffle\n",
    "class Random_process :\n",
    "    #Methode pour retourner un résumé aléatoire.\n",
    "    def __init__(self, i = 0) :\n",
    "        self.__name__ = \"Random_process nb\"+str(i)\n",
    "        pass\n",
    "    \n",
    "    def preprocess(self, corpus):\n",
    "        pass\n",
    "    \n",
    "    def summarize(self, corpus) :\n",
    "        full = [i for i in range(len(corpus))]\n",
    "        shuffle(full)\n",
    "        return full"
   ]
  }
 ],
 "metadata": {
  "kernelspec": {
   "display_name": "Python 3",
   "language": "python",
   "name": "python3"
  },
  "language_info": {
   "codemirror_mode": {
    "name": "ipython",
    "version": 3
   },
   "file_extension": ".py",
   "mimetype": "text/x-python",
   "name": "python",
   "nbconvert_exporter": "python",
   "pygments_lexer": "ipython3",
   "version": "3.6.7"
  }
 },
 "nbformat": 4,
 "nbformat_minor": 2
}
