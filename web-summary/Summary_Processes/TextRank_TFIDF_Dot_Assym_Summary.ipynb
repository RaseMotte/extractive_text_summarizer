{
 "cells": [
  {
   "cell_type": "code",
   "execution_count": null,
   "metadata": {},
   "outputs": [],
   "source": [
    "from sklearn.feature_extraction.text import TfidfVectorizer\n",
    "from sklearn.metrics.pairwise import cosine_similarity as cos_sim\n",
    "import numpy as np\n",
    "import scipy as sp\n",
    "%run Generic_Summarizer.ipynb\n",
    "class TextRank_TFIDF_Dot_Summarizer_Assym_process :\n",
    "    def __init__(self, a, b) :\n",
    "        self.__class__ = type(self.__class__.__name__, (self.__class__,), {})\n",
    "        self.__class__.__call__ = lambda x:x\n",
    "        self.a = a\n",
    "        self.b = b\n",
    "        self.__name__ = \"TextRank_TFIDF_Summarizer_Dot_Assym_process(\"+str(self.a)+\",\"+str(self.b)+\")\"\n",
    "    \n",
    "    def preprocess(self, corpus):\n",
    "        self.vectorizer = TfidfVectorizer(norm=None, sublinear_tf=True)\n",
    "        self.vectorizer.fit(corpus)\n",
    "\n",
    "    def summarize(self,corpus) :\n",
    "        X = self.vectorizer.transform(corpus)\n",
    "        Xs = sp.sparse.csr_matrix(X)\n",
    "        XsXst = Xs*Xs.T\n",
    "        dist = np.array([np.arange(X.shape[0]) - i for i in range(0,X.shape[0])])\n",
    "        pos = dist > 0\n",
    "        neg = dist < 0\n",
    "        factor = (np.power(self.a, np.abs(np.multiply(dist,pos)))\n",
    "                  + np.power(self.b, np.abs(np.multiply(dist,neg)))\n",
    "                  - 1)\n",
    "        return tr_summarizer(np.multiply(factor, XsXst.toarray()), corpus)\n",
    "    \n",
    "    def __str__(self):\n",
    "        return \"TextRank_TFIDF_Summarizer_Dot_Assym_process(\"+str(self.a)+\",\"+str(self.b)+\")\""
   ]
  }
 ],
 "metadata": {
  "kernelspec": {
   "display_name": "Python 3",
   "language": "python",
   "name": "python3"
  },
  "language_info": {
   "codemirror_mode": {
    "name": "ipython",
    "version": 3
   },
   "file_extension": ".py",
   "mimetype": "text/x-python",
   "name": "python",
   "nbconvert_exporter": "python",
   "pygments_lexer": "ipython3",
   "version": "3.6.7"
  }
 },
 "nbformat": 4,
 "nbformat_minor": 2
}
