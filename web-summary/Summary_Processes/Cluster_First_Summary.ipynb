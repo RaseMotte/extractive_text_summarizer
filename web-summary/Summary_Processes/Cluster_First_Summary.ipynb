{
 "cells": [
  {
   "cell_type": "code",
   "execution_count": 2,
   "metadata": {},
   "outputs": [],
   "source": [
    "from sklearn.cluster import AgglomerativeClustering\n",
    "from sklearn.cluster import KMeans\n",
    "from collections import defaultdict\n",
    "import numpy as np\n",
    "from sklearn.metrics.pairwise import cosine_similarity as cos_sim\n",
    "%run TFIDF_Summary.ipynb\n",
    "\n",
    "\n",
    "class Cluster_First_process(Tfidf_process) :\n",
    "    def __init__(self, n, nb_words = 100) :\n",
    "        self.nb_words = nb_words\n",
    "        self.__class__ = type(self.__class__.__name__, (self.__class__,), {})\n",
    "        self.__class__.__call__ = lambda x:x\n",
    "        self.n = n\n",
    "        self.__name__ = \"Cluster_First(\"+str(self.n)+\")\"\n",
    "    \n",
    "    def summarize(self, corpus, docs_bias=None) :\n",
    "        X = self.vectorizer.transform(corpus).toarray()\n",
    "        #C = AgglomerativeClustering(n_clusters = self.n)\n",
    "        C = KMeans(n_clusters = self.n, n_init = 3, max_iter = 20)\n",
    "        \n",
    "        Z = C.fit_predict(X)\n",
    "        clu = defaultdict(list)\n",
    "        for ind, cls in enumerate(Z) :\n",
    "            clu[cls].append(ind)\n",
    "        summ = []\n",
    "        selected = set()\n",
    "        total_length = 0\n",
    "        while total_length < self.nb_words:\n",
    "            for clus in clu.values() :\n",
    "                if (len(clus)) == 0:\n",
    "                    continue\n",
    "                minInd = max(clus)\n",
    "                for ind in clus :\n",
    "                    if ind not in selected:\n",
    "                        minInd = min(minInd, ind)\n",
    "                summ.append(minInd)\n",
    "                total_length += len(corpus[minInd].split())\n",
    "                selected.add(minInd)\n",
    "        return sorted(summ)"
   ]
  },
  {
   "cell_type": "code",
   "execution_count": null,
   "metadata": {},
   "outputs": [],
   "source": []
  }
 ],
 "metadata": {
  "kernelspec": {
   "display_name": "Python 3",
   "language": "python",
   "name": "python3"
  },
  "language_info": {
   "codemirror_mode": {
    "name": "ipython",
    "version": 3
   },
   "file_extension": ".py",
   "mimetype": "text/x-python",
   "name": "python",
   "nbconvert_exporter": "python",
   "pygments_lexer": "ipython3",
   "version": "3.6.8"
  }
 },
 "nbformat": 4,
 "nbformat_minor": 2
}
