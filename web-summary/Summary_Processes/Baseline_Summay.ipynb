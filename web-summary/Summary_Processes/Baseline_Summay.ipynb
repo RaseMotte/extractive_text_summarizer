{
 "cells": [
  {
   "cell_type": "code",
   "execution_count": 1,
   "metadata": {},
   "outputs": [],
   "source": [
    "class Baseline_process :\n",
    "    #Consiste à prendre les premiers mots pour créer un résumé.\n",
    "    def __init__(self):\n",
    "        self.__name__ = \"Baseline\"\n",
    "    \n",
    "    def preprocess(self, corpus, docs_bias=None):\n",
    "        pass\n",
    "    \n",
    "    def summarize(self, corpus, docs_bias=None):\n",
    "        #Return a list of int from the nb of sentence in the corpus to 0\n",
    "        sent_words = [] \n",
    "        for sent in corpus :\n",
    "            sent_words.append(sent.split())\n",
    "        return range(len(sent_words),0,-1)"
   ]
  }
 ],
 "metadata": {
  "kernelspec": {
   "display_name": "Python 3",
   "language": "python",
   "name": "python3"
  },
  "language_info": {
   "codemirror_mode": {
    "name": "ipython",
    "version": 3
   },
   "file_extension": ".py",
   "mimetype": "text/x-python",
   "name": "python",
   "nbconvert_exporter": "python",
   "pygments_lexer": "ipython3",
   "version": "3.6.8"
  }
 },
 "nbformat": 4,
 "nbformat_minor": 2
}
