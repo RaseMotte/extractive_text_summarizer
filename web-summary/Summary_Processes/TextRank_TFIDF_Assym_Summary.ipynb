{
 "cells": [
  {
   "cell_type": "code",
   "execution_count": 1,
   "metadata": {},
   "outputs": [
    {
     "name": "stderr",
     "output_type": "stream",
     "text": [
      "ERROR:root:File `'Summary_Processes/Generic_Summarizer.ipynb.py'` not found.\n"
     ]
    }
   ],
   "source": [
    "from sklearn.feature_extraction.text import TfidfVectorizer\n",
    "from sklearn.metrics.pairwise import cosine_similarity as cos_sim\n",
    "import inspect\n",
    "import seaborn \n",
    "%run Summary_Processes/Generic_Summarizer.ipynb\n",
    "\n",
    "class TextRank_TFIDF_Summarizer_Assym_process :\n",
    "    def __init__(self, a, b, weighted=False, method=\"tr\", lsanbcompfun = None, diag = \"none\",  tag = None, bias = 0) :\n",
    "        \n",
    "        self.weighted = weighted\n",
    "        self.method = method\n",
    "        self.lsanbcompfun = lsanbcompfun\n",
    "        self.diag = diag\n",
    "        self.a = a\n",
    "        self.b = b\n",
    "        self.vectorizer = TfidfVectorizer()\n",
    "        self.bias = bias\n",
    "        \n",
    "        methodstr = \"TextRank\" if method == \"tr\" else \"LSA\"\n",
    "        weightedstr = \"weighted\" if weighted else \"unweighted\"\n",
    "        self.__name__ = ( methodstr + \"_TFIDF_Summarizer_Assym_process(\" + str(self.a) + \",\"\n",
    "                         + str(self.b) + \",\" + weightedstr+ \",\"\n",
    "                         + diag + \", \" + str(bias) + \" )\" + ((\"-\" + tag) if tag is not None else \"\"))\n",
    "        \n",
    "    def preprocess(self, corpus):\n",
    "        self.vectorizer.fit(corpus)\n",
    "\n",
    "    def summarize(self,corpus) :\n",
    "        #Calcul de la matrice de similarité\n",
    "        X = self.vectorizer.transform(corpus)\n",
    "        \n",
    "        #Calcul de la matrice d'affaiblissement des lien entre les phrases les plus éloignées\n",
    "        dist = np.array([np.arange(X.shape[0]) - i for i in range(0,X.shape[0])])\n",
    "        pos = dist > 0\n",
    "        neg = dist < 0\n",
    "        factor = (np.power(self.a, np.abs(np.multiply(dist,pos)))\n",
    "                  + np.power(self.b, np.abs(np.multiply(dist,neg)))\n",
    "                  - 1)\n",
    "        \n",
    "        matrix = np.multiply(factor,cos_sim(X, X))\n",
    "        \n",
    "        #Use of a generic method which call the correct method\n",
    "        return generic_summarizer(self.method, matrix, corpus, self.weighted, self.lsanbcompfun, diag =  self.diag, bias = self.bias)\n",
    "    \n",
    "    def __str__(self):\n",
    "        return self.__name__"
   ]
  },
  {
   "cell_type": "code",
   "execution_count": 4,
   "metadata": {},
   "outputs": [
    {
     "data": {
      "text/plain": [
       "array([[1.        , 0.88543774],\n",
       "       [0.88543774, 1.        ]])"
      ]
     },
     "execution_count": 4,
     "metadata": {},
     "output_type": "execute_result"
    }
   ],
   "source": [
    "X = [[0,1,2],[3,4,5]]\n",
    "cos_sim(X,X)"
   ]
  }
 ],
 "metadata": {
  "kernelspec": {
   "display_name": "Python 3",
   "language": "python",
   "name": "python3"
  },
  "language_info": {
   "codemirror_mode": {
    "name": "ipython",
    "version": 3
   },
   "file_extension": ".py",
   "mimetype": "text/x-python",
   "name": "python",
   "nbconvert_exporter": "python",
   "pygments_lexer": "ipython3",
   "version": "3.6.8"
  }
 },
 "nbformat": 4,
 "nbformat_minor": 2
}
