{
 "cells": [
  {
   "cell_type": "code",
   "execution_count": null,
   "metadata": {},
   "outputs": [],
   "source": [
    "from sklearn.feature_extraction.text import TfidfVectorizer\n",
    "from sklearn.cluster import FeatureAgglomeration\n",
    "\n",
    "class BOV_process():\n",
    "    \"\"\"\n",
    "    Kind of a bag of word process.\n",
    "    \n",
    "    Make a tfidf rpz of the document.\n",
    "    Apply PCA to reduce nb of dimension.\n",
    "    Clustering on the terms.\n",
    "    \"\"\"\n",
    "    \n",
    "    def __init__(self, method=\"feat_agg\", n_clusters=200):\n",
    "        self.__name__ = \"BOV_%s_%d_process\" % (method, n_clusters)\n",
    "        self.n_clusters=n_clusters\n",
    "        pass\n",
    "    \n",
    "    def preprocess(self, corpus):\n",
    "        self.vectorizer = TfidfVectorizer()\n",
    "        self.vectorizer.fit(corpus)\n",
    "\n",
    "    def summarize(self, corpus):\n",
    "        X = self.vectorizer.transform(corpus).toarray()\n",
    "        if method == \"feat_agg\":\n",
    "            dimension_reduction = FeatureAgglomeration(n_clusters = self.n_clusters)\n",
    "            Z = dimension_reduction.fit_transform(X)\n",
    "        elif method == \"pca\":\n",
    "            # compute PCA matrix and keep only 64 dimensions\n",
    "            cov = np.dot(X.T, X)\n",
    "            eigvals, eigvecs = np.linalg.eig(cov)\n",
    "            perm = eigvals.argsort()                   # sort by increasing eigenvalue\n",
    "            # select eig values such that .. >= 80%\n",
    "            pca_transform = eigvecs[:, perm[64:128]]   # eigenvectors for the 64 last eigenvalues\n",
    "            Z = np.dot(train_desc, pca_transform)\n",
    "        else:\n",
    "            print(\"Error: unkown arg %s\" % method)\n",
    "            return None\n",
    "        return tr_summarizer(cos_sim(Z, Z), corpus)"
   ]
  }
 ],
 "metadata": {
  "kernelspec": {
   "display_name": "Python 3",
   "language": "python",
   "name": "python3"
  },
  "language_info": {
   "codemirror_mode": {
    "name": "ipython",
    "version": 3
   },
   "file_extension": ".py",
   "mimetype": "text/x-python",
   "name": "python",
   "nbconvert_exporter": "python",
   "pygments_lexer": "ipython3",
   "version": "3.7.4"
  }
 },
 "nbformat": 4,
 "nbformat_minor": 2
}
