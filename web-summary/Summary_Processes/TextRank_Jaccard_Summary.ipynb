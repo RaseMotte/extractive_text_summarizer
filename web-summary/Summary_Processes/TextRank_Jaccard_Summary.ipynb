{
 "cells": [
  {
   "cell_type": "code",
   "execution_count": 90,
   "metadata": {},
   "outputs": [],
   "source": [
    "from math import log\n",
    "from sklearn.metrics.pairwise import cosine_similarity as cos_sim\n",
    "%run Summary_Processes/Generic_Summarizer.ipynb\n",
    "import numpy as np\n",
    "\n",
    "class TextRank_Jaccard_process :\n",
    "    \n",
    "    def __init__(self, a = 1, b = 1, weighted=False, method = \"tr\", lsanbcompfun = None, diag = \"none\", bias = 0) :\n",
    "        #Assymetric coefficients\n",
    "        self.a = a\n",
    "        self.b = b\n",
    "        \n",
    "        #Parameters to calculate the\n",
    "        self.weighted = weighted\n",
    "        self.method = method\n",
    "        self.lsanbcompfun = lsanbcompfun # ça c'est du nom de variable explicite.\n",
    "        self.diag = diag\n",
    "        self.bias = bias\n",
    "        \n",
    "        methodstr = \"TextRank\" if method == \"tr\" else \"LSA\"\n",
    "        weightedstr = \"weighted\" if weighted else \"unweighted\"\n",
    "        self.__name__ = methodstr+\"_Jaccard_process(\"+str(a)+\", \"+str(b)+\", \"+weightedstr+\",\"+diag+\",\"+str(bias)+\")\"\n",
    "    \n",
    "    def preprocess(self, corpus):\n",
    "        pass\n",
    "    \n",
    "    def summarize(self, corpus) :\n",
    "        \n",
    "        #Calculating the similarity\n",
    "        self.sent_words = []\n",
    "        for sent in corpus :\n",
    "            self.sent_words.append(set(sent.split()))\n",
    "        \n",
    "        sen_length = [log(len(corpus[i].split())) for i in range(len(corpus))]\n",
    "        l = len(corpus)\n",
    "        m = np.array([[0 for i in range(j)]+[len(self.sent_words[i].intersection(self.sent_words[j])) for i in range(j,l)]\n",
    "                      for j in range(l)])\n",
    "\n",
    "        m += m.T\n",
    "        X = np.divide(m, np.array([[sen_length[i] + sen_length[j] for i in range(l)] for j in range(l)]))\n",
    "        \n",
    "        #Calculte the assymetric part \n",
    "        dist = np.array([np.arange(X.shape[0]) - i for i in range(0,X.shape[0])])\n",
    "        pos = dist > 0\n",
    "        neg = dist < 0\n",
    "        factor = (np.power(self.a, np.abs(np.multiply(dist,pos)))\n",
    "                  + np.power(self.b, np.abs(np.multiply(dist,neg)))\n",
    "                  - 1)\n",
    "        \n",
    "        #Modify the similarity according to the assymetry\n",
    "        matrix = np.multiply(factor,cos_sim(X, X))\n",
    "        \n",
    "        return generic_summarizer(self.method, matrix, corpus, self.weighted, self.lsanbcompfun, diag =  self.diag, bias = self.bias)"
   ]
  }
 ],
 "metadata": {
  "kernelspec": {
   "display_name": "Python 3",
   "language": "python",
   "name": "python3"
  },
  "language_info": {
   "codemirror_mode": {
    "name": "ipython",
    "version": 3
   },
   "file_extension": ".py",
   "mimetype": "text/x-python",
   "name": "python",
   "nbconvert_exporter": "python",
   "pygments_lexer": "ipython3",
   "version": "3.7.4"
  }
 },
 "nbformat": 4,
 "nbformat_minor": 2
}
