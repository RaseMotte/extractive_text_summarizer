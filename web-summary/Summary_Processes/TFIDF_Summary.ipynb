{
 "cells": [
  {
   "cell_type": "code",
   "execution_count": null,
   "metadata": {},
   "outputs": [],
   "source": []
  },
  {
   "cell_type": "code",
   "execution_count": 1,
   "metadata": {},
   "outputs": [
    {
     "name": "stderr",
     "output_type": "stream",
     "text": [
      "ERROR:root:File `'Summary_Processes/Generic_Summarizer.ipynb.py'` not found.\n"
     ]
    }
   ],
   "source": [
    "from sklearn.feature_extraction.text import TfidfVectorizer\n",
    "from sklearn.metrics.pairwise import cosine_similarity as cos_sim\n",
    "%run Summary_Processes/Generic_Summarizer.ipynb\n",
    "class Tfidf_process :\n",
    "    \n",
    "    def __init__(self) :\n",
    "        self.__name__ = \"Tfidf_process\"\n",
    "        pass\n",
    "    \n",
    "    def preprocess(self, corpus):\n",
    "        self.vectorizer = TfidfVectorizer()\n",
    "        self.vectorizer.fit(corpus)\n",
    "\n",
    "    def summarize(self, corpus):\n",
    "        # Tf-idf-weighted document-term matrix (n_samples, n_features)\n",
    "        X = self.vectorizer.transform(corpus)\n",
    "        return tr_summarizer(cos_sim(X, X), corpus)\n"
   ]
  }
 ],
 "metadata": {
  "kernelspec": {
   "display_name": "Python 3",
   "language": "python",
   "name": "python3"
  },
  "language_info": {
   "codemirror_mode": {
    "name": "ipython",
    "version": 3
   },
   "file_extension": ".py",
   "mimetype": "text/x-python",
   "name": "python",
   "nbconvert_exporter": "python",
   "pygments_lexer": "ipython3",
   "version": "3.7.2"
  }
 },
 "nbformat": 4,
 "nbformat_minor": 2
}
