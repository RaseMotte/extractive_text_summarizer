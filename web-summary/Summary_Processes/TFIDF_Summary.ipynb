{
 "cells": [
  {
   "cell_type": "markdown",
   "metadata": {},
   "source": [
    "# TFIDF\n",
    "\n",
    "Intermediate representation of the input text.\n",
    "Interprete the topic discussed in the text.\n",
    "Topic representation approach.\n",
    "\n",
    "Measure for a documents the weight of its words regarding the corpus."
   ]
  },
  {
   "cell_type": "code",
   "execution_count": 1,
   "metadata": {},
   "outputs": [
    {
     "name": "stderr",
     "output_type": "stream",
     "text": [
      "ERROR:root:File `'Summary_Processes/Generic_Summarizer.ipynb.py'` not found.\n"
     ]
    }
   ],
   "source": [
    "from sklearn.feature_extraction.text import TfidfVectorizer\n",
    "from sklearn.metrics.pairwise import cosine_similarity as cos_sim\n",
    "%run Summary_Processes/Generic_Summarizer.ipynb\n",
    "class Tfidf_process :\n",
    "    \n",
    "    def __init__(self) :\n",
    "        self.__name__ = \"Tfidf_process\"\n",
    "        pass\n",
    "    \n",
    "    def preprocess(self, corpus):\n",
    "        self.vectorizer = TfidfVectorizer()\n",
    "        self.vectorizer.fit(corpus)\n",
    "\n",
    "    def summarize(self, corpus):\n",
    "        \"\"\"\n",
    "        Compute the sentence-term tfidf matrix and apply the PageRank\n",
    "        algorithm on it to obtain the weight of a sentence in the document.\n",
    "        \n",
    "        :param corpus:  List of strings.  \n",
    "                        Seems that with the wrapper and everything it's just a single document.\n",
    "        \"\"\"\n",
    "        # Tf-idf-weighted document-term matrix (n_samples, n_features)\n",
    "        # feature = individual token occurrence frequency => n_features = vocab_size ???\n",
    "        # sample = a document => n_samples = nb of document in the corpus\n",
    "        X = self.vectorizer.transform(corpus)\n",
    "        # Since tfidf sklean vectorization returns a l2-normalized matrix,\n",
    "        # computing the cosine distance is equivalent to applying a linear kernel.\n",
    "        # Why the fuck is that useful ???\n",
    "        return tr_summarizer(cos_sim(X, X), corpus)\n"
   ]
  }
 ],
 "metadata": {
  "kernelspec": {
   "display_name": "Python 3",
   "language": "python",
   "name": "python3"
  },
  "language_info": {
   "codemirror_mode": {
    "name": "ipython",
    "version": 3
   },
   "file_extension": ".py",
   "mimetype": "text/x-python",
   "name": "python",
   "nbconvert_exporter": "python",
   "pygments_lexer": "ipython3",
   "version": "3.7.3"
  }
 },
 "nbformat": 4,
 "nbformat_minor": 2
}
